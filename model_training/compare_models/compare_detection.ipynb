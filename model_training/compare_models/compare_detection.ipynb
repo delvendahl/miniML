{
 "cells": [
  {
   "cell_type": "code",
   "execution_count": 1,
   "metadata": {},
   "outputs": [],
   "source": [
    "import sys\n",
    "sys.path.append('../../core/')\n",
    "\n",
    "from miniML import MiniTrace, EventDetection\n",
    "from miniML_plot_functions import miniML_plots\n",
    "import matplotlib.pyplot as plt\n",
    "import numpy as np\n",
    "import matplotlib"
   ]
  },
  {
   "cell_type": "code",
   "execution_count": 2,
   "metadata": {},
   "outputs": [],
   "source": [
    "model_1 = '../../models/GC_lstm_model.h5'\n",
    "model_2 = '../../models/transfer_learning/GC_mEPSP/lstm_transfer.h5'"
   ]
  },
  {
   "cell_type": "code",
   "execution_count": 3,
   "metadata": {},
   "outputs": [],
   "source": [
    "filename = '../../example_data/B_2020-05-14_007.dat'\n",
    "\n",
    "win_size = 3000\n",
    "threshold = 0.5\n",
    "event_direction = 'positive'\n",
    "training_direction = 'negative'\n",
    "\n",
    "rectype = 'conti CC'\n",
    "scaling = 1e3\n",
    "unit = 'mV'\n",
    "\n",
    "trace = MiniTrace.from_heka_file(filename=filename,\n",
    "                                 rectype=rectype,\n",
    "                                 scaling=scaling,\n",
    "                                 unit=unit)"
   ]
  },
  {
   "cell_type": "code",
   "execution_count": 4,
   "metadata": {},
   "outputs": [
    {
     "name": "stdout",
     "output_type": "stream",
     "text": [
      "Model loaded from ../../models/GC_lstm_model.h5\n",
      "118/118 [==============================] - 4s 27ms/step\n",
      "\n",
      "Event statistics:\n",
      "-------------------------\n",
      "    Number of events: 79\n",
      "    Average score: 0.847\n",
      "    Event frequency: 0.6583 Hz\n",
      "    Mean amplitude: 1.0204 mV\n",
      "    Median amplitude: 0.4077 mV\n",
      "    Std amplitude: 1.3295 mV\n",
      "    CV amplitude: 1.303\n",
      "    Mean charge: 0.00542 pC\n",
      "    CV charge: 1.090\n",
      "    Mean 10-90 risetime: 1.793 ms\n",
      "    Mean half decay time: 2.384 ms\n",
      "    Tau decay: 3.886 ms\n",
      "-------------------------\n"
     ]
    }
   ],
   "source": [
    "detection_1 = EventDetection(data=trace,\n",
    "                           model_path=model_1,\n",
    "                           window_size=win_size,\n",
    "                           model_threshold=threshold,\n",
    "                           batch_size=512,\n",
    "                           event_direction=event_direction,\n",
    "                           training_direction=training_direction,\n",
    "                           compile_model=True)\n",
    "\n",
    "detection_1.detect_events(eval=True, convolve_win=20, rel_prom_cutoff=0.75)"
   ]
  },
  {
   "cell_type": "code",
   "execution_count": 5,
   "metadata": {},
   "outputs": [
    {
     "name": "stdout",
     "output_type": "stream",
     "text": [
      "Model loaded from ../../models/transfer_learning/GC_mEPSP/lstm_transfer.h5\n",
      "118/118 [==============================] - 4s 27ms/step\n",
      "\n",
      "Event statistics:\n",
      "-------------------------\n",
      "    Number of events: 23\n",
      "    Average score: 0.969\n",
      "    Event frequency: 0.1917 Hz\n",
      "    Mean amplitude: 2.6514 mV\n",
      "    Median amplitude: 2.6035 mV\n",
      "    Std amplitude: 1.5165 mV\n",
      "    CV amplitude: 0.572\n",
      "    Mean charge: 0.01277 pC\n",
      "    CV charge: 0.476\n",
      "    Mean 10-90 risetime: 1.029 ms\n",
      "    Mean half decay time: 2.777 ms\n",
      "    Tau decay: 3.608 ms\n",
      "-------------------------\n"
     ]
    }
   ],
   "source": [
    "detection_2 = EventDetection(data=trace,\n",
    "                           model_path=model_2,\n",
    "                           window_size=win_size,\n",
    "                           model_threshold=threshold,\n",
    "                           batch_size=512,\n",
    "                           event_direction=event_direction,\n",
    "                           training_direction=training_direction,\n",
    "                           compile_model=True)\n",
    "\n",
    "detection_2.detect_events(eval=True, convolve_win=20, rel_prom_cutoff=0.75)"
   ]
  },
  {
   "cell_type": "code",
   "execution_count": 6,
   "metadata": {},
   "outputs": [],
   "source": [
    "%matplotlib qt\n",
    "fig, axs = plt.subplots(3, 1, sharex=True)\n",
    "\n",
    "prediction_x = np.arange(0, len(detection_1.prediction)) * trace.sampling\n",
    "\n",
    "\n",
    "axs[0].plot(prediction_x, detection_1.prediction, c='k', alpha=0.7, label=f'{model_1}')\n",
    "axs[0].plot(prediction_x, detection_2.prediction, c='b', alpha=0.7, label=f'{model_2}')\n",
    "axs[0].legend(loc='upper right')\n",
    "\n",
    "axs[1].plot(trace.time_axis, trace.data, c='k')\n",
    "axs[1].scatter(detection_1.event_peak_times, trace.data[detection_1.event_peak_locations], c='orange', zorder=2)\n",
    "\n",
    "axs[2].plot(trace.time_axis, trace.data, c='b')\n",
    "axs[2].scatter(detection_2.event_peak_times, trace.data[detection_2.event_peak_locations], c='orange', zorder=2)\n",
    "\n",
    "axs[1].sharey(axs[2])\n",
    "\n",
    "plt.show()"
   ]
  }
 ],
 "metadata": {
  "kernelspec": {
   "display_name": "Python 3.9.13 ('base')",
   "language": "python",
   "name": "python3"
  },
  "language_info": {
   "codemirror_mode": {
    "name": "ipython",
    "version": 3
   },
   "file_extension": ".py",
   "mimetype": "text/x-python",
   "name": "python",
   "nbconvert_exporter": "python",
   "pygments_lexer": "ipython3",
   "version": "3.9.13"
  },
  "orig_nbformat": 4,
  "vscode": {
   "interpreter": {
    "hash": "c0b30f0f8d428f0aa92dffd880d0c29755819e8cdb7210d4ad55fbdc1eb7b7ac"
   }
  }
 },
 "nbformat": 4,
 "nbformat_minor": 2
}

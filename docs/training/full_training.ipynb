{
 "cells": [
  {
   "cell_type": "markdown",
   "metadata": {},
   "source": [
    "# Training a full model"
   ]
  },
  {
   "cell_type": "markdown",
   "metadata": {},
   "source": [
    "This tutorial illustrates how to train a machine learning model for miniML. The model is a convolutional neural network (CNN) and long-short term memory (LSTM) network. The notebook illlustrates how to train a full model using training data of cerebellar GC miniature excitatory postsynaptic currents as described in the miniML manuscript. \n",
    "\n",
    "For details please refer to the manuscript in eLife and to the GitHub repository.\n",
    "\n",
    "eLife: https://doi.org/10.7554/eLife.98485.1\n",
    "\n",
    "GitHub: https://github.com/delvendahl/miniML"
   ]
  },
  {
   "cell_type": "markdown",
   "metadata": {},
   "source": [
    "## Preparation"
   ]
  },
  {
   "cell_type": "markdown",
   "metadata": {},
   "source": [
    "Labeled training data are available in the [Zenodo](https://doi.org/10.5281/zenodo.14507343) repository. Details on the dataset are described in the [miniML paper](https://doi.org/10.7554/eLife.98485.1). We begin by downloading the training dataset from Zenodo:"
   ]
  },
  {
   "cell_type": "code",
   "execution_count": 6,
   "metadata": {},
   "outputs": [
    {
     "name": "stdout",
     "output_type": "stream",
     "text": [
      "Downloaded GC_mEPSC_training_data.h5\n"
     ]
    }
   ],
   "source": [
    "import requests\n",
    "\n",
    "file_url = 'https://zenodo.org/records/14507343/files/1_GC_mepsc_train.h5'\n",
    "\n",
    "response = requests.get(file_url)\n",
    "\n",
    "if response.status_code == 200:\n",
    "    with open('../_data/GC_mEPSC_training_data.h5', 'wb') as file:\n",
    "        file.write(response.content)\n",
    "    print('Downloaded GC_mEPSC_training_data.h5')"
   ]
  },
  {
   "cell_type": "markdown",
   "metadata": {},
   "source": [
    "Now we set up our Python environment:"
   ]
  },
  {
   "cell_type": "code",
   "execution_count": 7,
   "metadata": {},
   "outputs": [
    {
     "name": "stdout",
     "output_type": "stream",
     "text": [
      "Using TF version 2.15.0\n",
      "GPUs available: 1\n"
     ]
    }
   ],
   "source": [
    "import tensorflow as tf\n",
    "from tensorflow.keras.layers import (Input, BatchNormalization, AveragePooling1D, Conv1D,\n",
    "                                     Bidirectional, LSTM, Dense, Dropout, LeakyReLU)\n",
    "from tensorflow.keras.optimizers.legacy import Adam\n",
    "from sklearn.preprocessing import minmax_scale\n",
    "from sklearn.model_selection import train_test_split\n",
    "from sklearn.metrics import auc, confusion_matrix, ConfusionMatrixDisplay, roc_curve, matthews_corrcoef\n",
    "import time\n",
    "import h5py\n",
    "import numpy as np\n",
    "import matplotlib.pyplot as plt\n",
    "\n",
    "print('Using TF version', tf.__version__)\n",
    "print('GPUs available:', len(tf.config.list_physical_devices('GPU')))"
   ]
  },
  {
   "cell_type": "markdown",
   "metadata": {},
   "source": [
    "## Set hyperparameters for training\n",
    "\n",
    "The following parameters are used for training the model:"
   ]
  },
  {
   "cell_type": "code",
   "execution_count": 8,
   "metadata": {},
   "outputs": [],
   "source": [
    "settings = {\n",
    "    'training_size': 0.8,\n",
    "    'testing_size': None,\n",
    "    'learn_rate': 2e-5,\n",
    "    'epsilon': 1e-8,\n",
    "    'patience': 8,\n",
    "    'epochs': 100,\n",
    "    'batch_size': 128,\n",
    "    'dropout': 0.2,\n",
    "    'training_data': '../_data/GC_mEPSC_training_data.h5'\n",
    "}"
   ]
  },
  {
   "cell_type": "markdown",
   "metadata": {},
   "source": [
    "## Load training data"
   ]
  },
  {
   "cell_type": "markdown",
   "metadata": {},
   "source": [
    "Now we can load the training data. The data is stored in an HDF5 file containing about 30,000 data segments with 600 time points each. Each data segment has a label of 0 (negative) or 1 (positive).\n",
    "\n",
    "We min-max scale the data and split the dataset into training and test sets. The training set is used to train the model, while the test set is used to evaluate the model. Both sets are `tf.data.Dataset` objects."
   ]
  },
  {
   "cell_type": "code",
   "execution_count": 9,
   "metadata": {},
   "outputs": [
    {
     "name": "stdout",
     "output_type": "stream",
     "text": [
      "loaded events with shape (30140, 600)\n",
      "loaded scores with shape (30140,)\n",
      "ratio of pos/neg scores: 1.03\n"
     ]
    }
   ],
   "source": [
    "with h5py.File(f'{settings[\"training_data\"]}', 'r') as f:\n",
    "    x = f['events'][:]\n",
    "    y = f['scores'][:]\n",
    "\n",
    "print(f'loaded events with shape {x.shape}')\n",
    "print(f'loaded scores with shape {y.shape}') \n",
    "print(f'ratio of pos/neg scores: {y.sum()/(y.shape[0]-y.sum()):.2f}')\n",
    "\n",
    "scaled_data = minmax_scale(x, feature_range=(0,1), axis=1)\n",
    "scaled_data = np.expand_dims(scaled_data, axis=2)\n",
    "y = np.expand_dims(y, axis=1)\n",
    "x_train, x_test, y_train, y_test = train_test_split(scaled_data, y, train_size=settings['training_size'], random_state=1234)\n",
    "\n",
    "train_dataset = tf.data.Dataset.from_tensor_slices((x_train, y_train))\n",
    "test_dataset = tf.data.Dataset.from_tensor_slices((x_test, y_test))"
   ]
  },
  {
   "cell_type": "markdown",
   "metadata": {},
   "source": [
    "## Build the model"
   ]
  },
  {
   "cell_type": "markdown",
   "metadata": {},
   "source": [
    "Here, we define our model architecture. The model is a convolutional neural network (CNN) and long-short term memory (LSTM) network."
   ]
  },
  {
   "cell_type": "code",
   "execution_count": 10,
   "metadata": {},
   "outputs": [
    {
     "name": "stdout",
     "output_type": "stream",
     "text": [
      "Model: \"sequential\"\n",
      "_________________________________________________________________\n",
      " Layer (type)                Output Shape              Param #   \n",
      "=================================================================\n",
      " conv1d (Conv1D)             (None, 600, 32)           320       \n",
      "                                                                 \n",
      " batch_normalization (Batch  (None, 600, 32)           128       \n",
      " Normalization)                                                  \n",
      "                                                                 \n",
      " leaky_re_lu (LeakyReLU)     (None, 600, 32)           0         \n",
      "                                                                 \n",
      " average_pooling1d (Average  (None, 200, 32)           0         \n",
      " Pooling1D)                                                      \n",
      "                                                                 \n",
      " conv1d_1 (Conv1D)           (None, 200, 48)           10800     \n",
      "                                                                 \n",
      " batch_normalization_1 (Bat  (None, 200, 48)           192       \n",
      " chNormalization)                                                \n",
      "                                                                 \n",
      " leaky_re_lu_1 (LeakyReLU)   (None, 200, 48)           0         \n",
      "                                                                 \n",
      " average_pooling1d_1 (Avera  (None, 100, 48)           0         \n",
      " gePooling1D)                                                    \n",
      "                                                                 \n",
      " conv1d_2 (Conv1D)           (None, 100, 64)           15424     \n",
      "                                                                 \n",
      " batch_normalization_2 (Bat  (None, 100, 64)           256       \n",
      " chNormalization)                                                \n",
      "                                                                 \n",
      " leaky_re_lu_2 (LeakyReLU)   (None, 100, 64)           0         \n",
      "                                                                 \n",
      " average_pooling1d_2 (Avera  (None, 50, 64)            0         \n",
      " gePooling1D)                                                    \n",
      "                                                                 \n",
      " conv1d_3 (Conv1D)           (None, 50, 80)            15440     \n",
      "                                                                 \n",
      " batch_normalization_3 (Bat  (None, 50, 80)            320       \n",
      " chNormalization)                                                \n",
      "                                                                 \n",
      " leaky_re_lu_3 (LeakyReLU)   (None, 50, 80)            0         \n",
      "                                                                 \n",
      " bidirectional (Bidirection  (None, 96)                135936    \n",
      " al)                                                             \n",
      "                                                                 \n",
      " dense (Dense)               (None, 128)               12416     \n",
      "                                                                 \n",
      " dropout (Dropout)           (None, 128)               0         \n",
      "                                                                 \n",
      " dense_1 (Dense)             (None, 1)                 129       \n",
      "                                                                 \n",
      "=================================================================\n",
      "Total params: 191361 (747.50 KB)\n",
      "Trainable params: 190913 (745.75 KB)\n",
      "Non-trainable params: 448 (1.75 KB)\n",
      "_________________________________________________________________\n"
     ]
    }
   ],
   "source": [
    "def build_model(x_train, dropout_rate):\n",
    "    model = tf.keras.models.Sequential()\n",
    "    model.add(Input(shape=(x_train.shape[1:])))\n",
    "              \n",
    "    model.add(Conv1D(filters=32, kernel_size=9, padding='same'))\n",
    "    model.add(BatchNormalization())\n",
    "    model.add(LeakyReLU())\n",
    "    model.add(AveragePooling1D(pool_size=3, strides=3))\n",
    "    \n",
    "    model.add(Conv1D(filters=48, kernel_size=7, padding='same'))\n",
    "    model.add(BatchNormalization())\n",
    "    model.add(LeakyReLU())\n",
    "    model.add(AveragePooling1D(pool_size=2, strides=2))\n",
    "    \n",
    "    model.add(Conv1D(filters=64, kernel_size=5, padding='same'))\n",
    "    model.add(BatchNormalization())\n",
    "    model.add(LeakyReLU())\n",
    "    model.add(AveragePooling1D(pool_size=2, strides=2))\n",
    "    \n",
    "    model.add(Conv1D(filters=80, kernel_size=3, padding='same'))\n",
    "    model.add(BatchNormalization())\n",
    "    model.add(LeakyReLU())\n",
    "    \n",
    "    model.add(Bidirectional(LSTM(96, dropout=dropout_rate), merge_mode='sum'))\n",
    "    model.add(Dense(128, activation=LeakyReLU()))\n",
    "    model.add(Dropout(dropout_rate))\n",
    "    model.add(Dense(1, activation='sigmoid'))\n",
    "    \n",
    "    return model\n",
    "\n",
    "\n",
    "model = build_model(x_train, settings['dropout'])\n",
    "model.compile(optimizer=Adam(learning_rate=settings['learn_rate'], epsilon=settings['epsilon'], amsgrad=True),\n",
    "              loss=tf.keras.losses.BinaryCrossentropy(), \n",
    "              metrics=['Accuracy'])\n",
    "\n",
    "model.summary()"
   ]
  },
  {
   "cell_type": "markdown",
   "metadata": {},
   "source": [
    "## Train the model"
   ]
  },
  {
   "cell_type": "markdown",
   "metadata": {},
   "source": [
    "Now we can train our model using the training data. Note that running this cell can take a few minutes on a GPU. When using the CPU, the training time can be much longer. \n",
    "\n",
    "We also provide an executable notebook for model training on Kaggle, which is available [here](https://www.kaggle.com/code/philipponeill/miniml-full-training)."
   ]
  },
  {
   "cell_type": "code",
   "execution_count": 11,
   "metadata": {},
   "outputs": [
    {
     "name": "stdout",
     "output_type": "stream",
     "text": [
      "Epoch 1/100\n"
     ]
    },
    {
     "name": "stderr",
     "output_type": "stream",
     "text": [
      "2025-01-08 20:15:44.674941: I tensorflow/core/grappler/optimizers/custom_graph_optimizer_registry.cc:117] Plugin optimizer for device_type GPU is enabled.\n"
     ]
    },
    {
     "name": "stdout",
     "output_type": "stream",
     "text": [
      "189/189 - 12s - loss: 0.4509 - Accuracy: 0.8208 - val_loss: 0.6007 - val_Accuracy: 0.7918 - 12s/epoch - 61ms/step\n",
      "Epoch 2/100\n",
      "189/189 - 7s - loss: 0.3724 - Accuracy: 0.8393 - val_loss: 0.5336 - val_Accuracy: 0.7502 - 7s/epoch - 38ms/step\n",
      "Epoch 3/100\n",
      "189/189 - 7s - loss: 0.3158 - Accuracy: 0.8619 - val_loss: 0.4187 - val_Accuracy: 0.8183 - 7s/epoch - 38ms/step\n",
      "Epoch 4/100\n",
      "189/189 - 7s - loss: 0.1660 - Accuracy: 0.9411 - val_loss: 0.1617 - val_Accuracy: 0.9423 - 7s/epoch - 39ms/step\n",
      "Epoch 5/100\n",
      "189/189 - 8s - loss: 0.1171 - Accuracy: 0.9560 - val_loss: 0.0961 - val_Accuracy: 0.9645 - 8s/epoch - 40ms/step\n",
      "Epoch 6/100\n",
      "189/189 - 7s - loss: 0.1020 - Accuracy: 0.9611 - val_loss: 0.0917 - val_Accuracy: 0.9678 - 7s/epoch - 37ms/step\n",
      "Epoch 7/100\n",
      "189/189 - 7s - loss: 0.0970 - Accuracy: 0.9636 - val_loss: 0.0848 - val_Accuracy: 0.9693 - 7s/epoch - 37ms/step\n",
      "Epoch 8/100\n",
      "189/189 - 7s - loss: 0.0909 - Accuracy: 0.9659 - val_loss: 0.0813 - val_Accuracy: 0.9695 - 7s/epoch - 37ms/step\n",
      "Epoch 9/100\n",
      "189/189 - 7s - loss: 0.0885 - Accuracy: 0.9657 - val_loss: 0.0803 - val_Accuracy: 0.9701 - 7s/epoch - 38ms/step\n",
      "Epoch 10/100\n",
      "189/189 - 7s - loss: 0.0849 - Accuracy: 0.9667 - val_loss: 0.0781 - val_Accuracy: 0.9715 - 7s/epoch - 38ms/step\n",
      "Epoch 11/100\n",
      "189/189 - 7s - loss: 0.0831 - Accuracy: 0.9681 - val_loss: 0.0768 - val_Accuracy: 0.9715 - 7s/epoch - 38ms/step\n",
      "Epoch 12/100\n",
      "189/189 - 7s - loss: 0.0807 - Accuracy: 0.9681 - val_loss: 0.0770 - val_Accuracy: 0.9701 - 7s/epoch - 38ms/step\n",
      "Epoch 13/100\n",
      "189/189 - 7s - loss: 0.0805 - Accuracy: 0.9682 - val_loss: 0.0750 - val_Accuracy: 0.9713 - 7s/epoch - 37ms/step\n",
      "Epoch 14/100\n",
      "189/189 - 7s - loss: 0.0795 - Accuracy: 0.9689 - val_loss: 0.0693 - val_Accuracy: 0.9716 - 7s/epoch - 37ms/step\n",
      "Epoch 15/100\n",
      "189/189 - 7s - loss: 0.0749 - Accuracy: 0.9702 - val_loss: 0.0706 - val_Accuracy: 0.9725 - 7s/epoch - 37ms/step\n",
      "Epoch 16/100\n",
      "189/189 - 7s - loss: 0.0733 - Accuracy: 0.9710 - val_loss: 0.0674 - val_Accuracy: 0.9736 - 7s/epoch - 37ms/step\n",
      "Epoch 17/100\n",
      "189/189 - 7s - loss: 0.0721 - Accuracy: 0.9719 - val_loss: 0.0657 - val_Accuracy: 0.9726 - 7s/epoch - 37ms/step\n",
      "Epoch 18/100\n",
      "189/189 - 7s - loss: 0.0739 - Accuracy: 0.9701 - val_loss: 0.0648 - val_Accuracy: 0.9735 - 7s/epoch - 37ms/step\n",
      "Epoch 19/100\n",
      "189/189 - 7s - loss: 0.0708 - Accuracy: 0.9709 - val_loss: 0.0669 - val_Accuracy: 0.9740 - 7s/epoch - 37ms/step\n",
      "Epoch 20/100\n",
      "189/189 - 8s - loss: 0.0699 - Accuracy: 0.9722 - val_loss: 0.0635 - val_Accuracy: 0.9748 - 8s/epoch - 41ms/step\n",
      "Epoch 21/100\n",
      "189/189 - 7s - loss: 0.0679 - Accuracy: 0.9726 - val_loss: 0.0618 - val_Accuracy: 0.9745 - 7s/epoch - 38ms/step\n",
      "Epoch 22/100\n",
      "189/189 - 7s - loss: 0.0674 - Accuracy: 0.9732 - val_loss: 0.0653 - val_Accuracy: 0.9748 - 7s/epoch - 39ms/step\n",
      "Epoch 23/100\n",
      "189/189 - 7s - loss: 0.0667 - Accuracy: 0.9723 - val_loss: 0.0615 - val_Accuracy: 0.9750 - 7s/epoch - 38ms/step\n",
      "Epoch 24/100\n",
      "189/189 - 7s - loss: 0.0657 - Accuracy: 0.9737 - val_loss: 0.0617 - val_Accuracy: 0.9746 - 7s/epoch - 38ms/step\n",
      "Epoch 25/100\n",
      "189/189 - 8s - loss: 0.0658 - Accuracy: 0.9729 - val_loss: 0.0600 - val_Accuracy: 0.9758 - 8s/epoch - 40ms/step\n",
      "Epoch 26/100\n",
      "189/189 - 7s - loss: 0.0653 - Accuracy: 0.9740 - val_loss: 0.0601 - val_Accuracy: 0.9750 - 7s/epoch - 37ms/step\n",
      "Epoch 27/100\n",
      "189/189 - 7s - loss: 0.0629 - Accuracy: 0.9735 - val_loss: 0.0596 - val_Accuracy: 0.9769 - 7s/epoch - 37ms/step\n",
      "Epoch 28/100\n",
      "189/189 - 7s - loss: 0.0647 - Accuracy: 0.9735 - val_loss: 0.0604 - val_Accuracy: 0.9751 - 7s/epoch - 37ms/step\n",
      "Epoch 29/100\n",
      "189/189 - 7s - loss: 0.0625 - Accuracy: 0.9749 - val_loss: 0.0589 - val_Accuracy: 0.9766 - 7s/epoch - 37ms/step\n",
      "Epoch 30/100\n",
      "189/189 - 7s - loss: 0.0631 - Accuracy: 0.9740 - val_loss: 0.0586 - val_Accuracy: 0.9766 - 7s/epoch - 38ms/step\n",
      "Epoch 31/100\n",
      "189/189 - 7s - loss: 0.0606 - Accuracy: 0.9748 - val_loss: 0.0586 - val_Accuracy: 0.9771 - 7s/epoch - 39ms/step\n",
      "Epoch 32/100\n",
      "189/189 - 7s - loss: 0.0624 - Accuracy: 0.9747 - val_loss: 0.0587 - val_Accuracy: 0.9754 - 7s/epoch - 39ms/step\n",
      "Epoch 33/100\n",
      "189/189 - 7s - loss: 0.0602 - Accuracy: 0.9753 - val_loss: 0.0583 - val_Accuracy: 0.9763 - 7s/epoch - 38ms/step\n",
      "Epoch 34/100\n",
      "189/189 - 8s - loss: 0.0605 - Accuracy: 0.9748 - val_loss: 0.0582 - val_Accuracy: 0.9771 - 8s/epoch - 40ms/step\n",
      "Epoch 35/100\n",
      "189/189 - 7s - loss: 0.0598 - Accuracy: 0.9747 - val_loss: 0.0596 - val_Accuracy: 0.9746 - 7s/epoch - 38ms/step\n",
      "Epoch 36/100\n",
      "189/189 - 7s - loss: 0.0609 - Accuracy: 0.9751 - val_loss: 0.0608 - val_Accuracy: 0.9753 - 7s/epoch - 37ms/step\n",
      "Epoch 37/100\n",
      "189/189 - 7s - loss: 0.0600 - Accuracy: 0.9751 - val_loss: 0.0571 - val_Accuracy: 0.9764 - 7s/epoch - 37ms/step\n",
      "Epoch 38/100\n",
      "189/189 - 7s - loss: 0.0576 - Accuracy: 0.9758 - val_loss: 0.0580 - val_Accuracy: 0.9761 - 7s/epoch - 38ms/step\n",
      "Epoch 39/100\n",
      "189/189 - 7s - loss: 0.0583 - Accuracy: 0.9765 - val_loss: 0.0617 - val_Accuracy: 0.9745 - 7s/epoch - 38ms/step\n",
      "Epoch 40/100\n",
      "189/189 - 7s - loss: 0.0576 - Accuracy: 0.9765 - val_loss: 0.0567 - val_Accuracy: 0.9768 - 7s/epoch - 37ms/step\n",
      "Epoch 41/100\n",
      "189/189 - 7s - loss: 0.0584 - Accuracy: 0.9756 - val_loss: 0.0575 - val_Accuracy: 0.9764 - 7s/epoch - 37ms/step\n",
      "Epoch 42/100\n",
      "189/189 - 7s - loss: 0.0567 - Accuracy: 0.9761 - val_loss: 0.0571 - val_Accuracy: 0.9769 - 7s/epoch - 37ms/step\n",
      "Epoch 43/100\n",
      "189/189 - 7s - loss: 0.0563 - Accuracy: 0.9763 - val_loss: 0.0562 - val_Accuracy: 0.9766 - 7s/epoch - 38ms/step\n",
      "Epoch 44/100\n",
      "189/189 - 7s - loss: 0.0558 - Accuracy: 0.9767 - val_loss: 0.0562 - val_Accuracy: 0.9773 - 7s/epoch - 38ms/step\n",
      "Epoch 45/100\n",
      "189/189 - 7s - loss: 0.0566 - Accuracy: 0.9760 - val_loss: 0.0555 - val_Accuracy: 0.9774 - 7s/epoch - 37ms/step\n",
      "Epoch 46/100\n",
      "189/189 - 7s - loss: 0.0562 - Accuracy: 0.9765 - val_loss: 0.0561 - val_Accuracy: 0.9768 - 7s/epoch - 36ms/step\n",
      "Epoch 47/100\n",
      "189/189 - 7s - loss: 0.0552 - Accuracy: 0.9768 - val_loss: 0.0571 - val_Accuracy: 0.9771 - 7s/epoch - 37ms/step\n",
      "Epoch 48/100\n",
      "189/189 - 7s - loss: 0.0550 - Accuracy: 0.9773 - val_loss: 0.0556 - val_Accuracy: 0.9768 - 7s/epoch - 37ms/step\n",
      "Epoch 49/100\n",
      "189/189 - 7s - loss: 0.0536 - Accuracy: 0.9778 - val_loss: 0.0562 - val_Accuracy: 0.9766 - 7s/epoch - 38ms/step\n",
      "Epoch 50/100\n",
      "189/189 - 7s - loss: 0.0543 - Accuracy: 0.9773 - val_loss: 0.0552 - val_Accuracy: 0.9763 - 7s/epoch - 37ms/step\n",
      "Epoch 51/100\n",
      "189/189 - 7s - loss: 0.0544 - Accuracy: 0.9781 - val_loss: 0.0578 - val_Accuracy: 0.9766 - 7s/epoch - 38ms/step\n",
      "Epoch 52/100\n",
      "189/189 - 7s - loss: 0.0540 - Accuracy: 0.9774 - val_loss: 0.0553 - val_Accuracy: 0.9776 - 7s/epoch - 37ms/step\n",
      "Epoch 53/100\n",
      "189/189 - 7s - loss: 0.0543 - Accuracy: 0.9771 - val_loss: 0.0552 - val_Accuracy: 0.9766 - 7s/epoch - 38ms/step\n",
      "Epoch 54/100\n",
      "189/189 - 7s - loss: 0.0528 - Accuracy: 0.9781 - val_loss: 0.0552 - val_Accuracy: 0.9774 - 7s/epoch - 37ms/step\n",
      "Epoch 55/100\n",
      "189/189 - 7s - loss: 0.0538 - Accuracy: 0.9774 - val_loss: 0.0552 - val_Accuracy: 0.9779 - 7s/epoch - 37ms/step\n",
      "Epoch 56/100\n",
      "189/189 - 7s - loss: 0.0529 - Accuracy: 0.9786 - val_loss: 0.0552 - val_Accuracy: 0.9761 - 7s/epoch - 37ms/step\n",
      "Epoch 57/100\n",
      "189/189 - 7s - loss: 0.0517 - Accuracy: 0.9785 - val_loss: 0.0556 - val_Accuracy: 0.9764 - 7s/epoch - 37ms/step\n",
      "Epoch 58/100\n",
      "189/189 - 7s - loss: 0.0524 - Accuracy: 0.9779 - val_loss: 0.0546 - val_Accuracy: 0.9781 - 7s/epoch - 39ms/step\n",
      "Epoch 59/100\n",
      "189/189 - 7s - loss: 0.0526 - Accuracy: 0.9779 - val_loss: 0.0546 - val_Accuracy: 0.9773 - 7s/epoch - 40ms/step\n",
      "Epoch 60/100\n",
      "189/189 - 7s - loss: 0.0515 - Accuracy: 0.9781 - val_loss: 0.0547 - val_Accuracy: 0.9774 - 7s/epoch - 37ms/step\n",
      "Epoch 61/100\n",
      "189/189 - 7s - loss: 0.0505 - Accuracy: 0.9793 - val_loss: 0.0547 - val_Accuracy: 0.9764 - 7s/epoch - 37ms/step\n",
      "Epoch 62/100\n",
      "189/189 - 8s - loss: 0.0523 - Accuracy: 0.9781 - val_loss: 0.0562 - val_Accuracy: 0.9763 - 8s/epoch - 40ms/step\n",
      "Epoch 63/100\n",
      "189/189 - 7s - loss: 0.0502 - Accuracy: 0.9789 - val_loss: 0.0544 - val_Accuracy: 0.9781 - 7s/epoch - 38ms/step\n",
      "Epoch 64/100\n",
      "189/189 - 7s - loss: 0.0516 - Accuracy: 0.9779 - val_loss: 0.0545 - val_Accuracy: 0.9769 - 7s/epoch - 38ms/step\n",
      "Epoch 65/100\n",
      "189/189 - 7s - loss: 0.0499 - Accuracy: 0.9793 - val_loss: 0.0565 - val_Accuracy: 0.9763 - 7s/epoch - 37ms/step\n",
      "Epoch 66/100\n",
      "189/189 - 7s - loss: 0.0503 - Accuracy: 0.9788 - val_loss: 0.0543 - val_Accuracy: 0.9791 - 7s/epoch - 37ms/step\n",
      "Epoch 67/100\n",
      "189/189 - 7s - loss: 0.0488 - Accuracy: 0.9801 - val_loss: 0.0559 - val_Accuracy: 0.9774 - 7s/epoch - 37ms/step\n",
      "Epoch 68/100\n",
      "189/189 - 7s - loss: 0.0508 - Accuracy: 0.9791 - val_loss: 0.0543 - val_Accuracy: 0.9763 - 7s/epoch - 38ms/step\n",
      "Epoch 69/100\n",
      "189/189 - 7s - loss: 0.0506 - Accuracy: 0.9788 - val_loss: 0.0597 - val_Accuracy: 0.9743 - 7s/epoch - 38ms/step\n",
      "Epoch 70/100\n",
      "189/189 - 7s - loss: 0.0498 - Accuracy: 0.9789 - val_loss: 0.0548 - val_Accuracy: 0.9771 - 7s/epoch - 38ms/step\n",
      "Epoch 71/100\n",
      "189/189 - 7s - loss: 0.0495 - Accuracy: 0.9790 - val_loss: 0.0540 - val_Accuracy: 0.9773 - 7s/epoch - 38ms/step\n",
      "Epoch 72/100\n",
      "189/189 - 7s - loss: 0.0486 - Accuracy: 0.9800 - val_loss: 0.0537 - val_Accuracy: 0.9781 - 7s/epoch - 39ms/step\n",
      "Epoch 73/100\n",
      "189/189 - 7s - loss: 0.0491 - Accuracy: 0.9788 - val_loss: 0.0606 - val_Accuracy: 0.9754 - 7s/epoch - 38ms/step\n",
      "Epoch 74/100\n",
      "189/189 - 7s - loss: 0.0479 - Accuracy: 0.9808 - val_loss: 0.0540 - val_Accuracy: 0.9766 - 7s/epoch - 37ms/step\n",
      "Epoch 75/100\n",
      "189/189 - 7s - loss: 0.0471 - Accuracy: 0.9810 - val_loss: 0.0564 - val_Accuracy: 0.9773 - 7s/epoch - 38ms/step\n",
      "Epoch 76/100\n",
      "189/189 - 7s - loss: 0.0473 - Accuracy: 0.9795 - val_loss: 0.0544 - val_Accuracy: 0.9781 - 7s/epoch - 38ms/step\n",
      "Epoch 77/100\n",
      "189/189 - 7s - loss: 0.0484 - Accuracy: 0.9796 - val_loss: 0.0555 - val_Accuracy: 0.9766 - 7s/epoch - 38ms/step\n",
      "Epoch 78/100\n",
      "189/189 - 7s - loss: 0.0471 - Accuracy: 0.9800 - val_loss: 0.0546 - val_Accuracy: 0.9774 - 7s/epoch - 38ms/step\n",
      "Epoch 79/100\n",
      "189/189 - 7s - loss: 0.0469 - Accuracy: 0.9801 - val_loss: 0.0553 - val_Accuracy: 0.9774 - 7s/epoch - 39ms/step\n",
      "Epoch 80/100\n",
      "189/189 - 7s - loss: 0.0461 - Accuracy: 0.9799 - val_loss: 0.0560 - val_Accuracy: 0.9778 - 7s/epoch - 37ms/step\n",
      "\n",
      "----\n",
      "train shape: (24112, 600, 1)\n",
      "score on val: 0.9781022071838379\n",
      "score on train: 0.9842402338981628\n",
      "----\n",
      "training time (s): 579.3798\n"
     ]
    }
   ],
   "source": [
    "early_stopping_callback = tf.keras.callbacks.EarlyStopping(\n",
    "    monitor='val_loss', \n",
    "    patience=settings['patience'],\n",
    "    restore_best_weights=True)\n",
    "\n",
    "start = time.time()\n",
    "SHUFFLE_BUFFER_SIZE = 100\n",
    "\n",
    "train_dataset = train_dataset.shuffle(SHUFFLE_BUFFER_SIZE).batch(settings['batch_size'], num_parallel_calls=tf.data.AUTOTUNE)\n",
    "test_dataset = test_dataset.batch(settings['batch_size'], num_parallel_calls=tf.data.AUTOTUNE)\n",
    "\n",
    "train_dataset = train_dataset.prefetch(tf.data.AUTOTUNE)\n",
    "test_dataset = test_dataset.prefetch(tf.data.AUTOTUNE)\n",
    "\n",
    "history = model.fit(train_dataset,\n",
    "                    verbose=2,\n",
    "                    epochs=settings['epochs'],\n",
    "                    validation_data=test_dataset,\n",
    "                    shuffle=True,\n",
    "                    callbacks=[early_stopping_callback])\n",
    "\n",
    "print('')\n",
    "print('----')\n",
    "print(f'train shape: {x_train.shape}')\n",
    "print(f'score on val: {model.evaluate(test_dataset, verbose=0)[1]}')\n",
    "print(f'score on train: {model.evaluate(train_dataset, verbose=0)[1]}')\n",
    "print('----')\n",
    "print(f'training time (s): {time.time()-start:.4f}')"
   ]
  },
  {
   "cell_type": "markdown",
   "metadata": {},
   "source": [
    "## Plot training and evaluate the model\n",
    "\n",
    "We can plot the training and validation accuracy and loss to visualize the training progress."
   ]
  },
  {
   "cell_type": "code",
   "execution_count": 12,
   "metadata": {},
   "outputs": [
    {
     "data": {
      "image/png": "[encoded data removed]",
      "text/plain": [
       "<Figure size 800x400 with 2 Axes>"
      ]
     },
     "metadata": {},
     "output_type": "display_data"
    },
    {
     "name": "stdout",
     "output_type": "stream",
     "text": [
      "Best epoch: 66 (accuracy=0.9791)\n"
     ]
    }
   ],
   "source": [
    "acc = history.history['Accuracy']\n",
    "val_acc = history.history['val_Accuracy']\n",
    "epochs = range(1, len(acc) + 1)\n",
    "\n",
    "fig, axs = plt.subplots(1, 2, figsize=(8, 4))\n",
    "axs[0].plot(epochs, acc, '#12B5CB', label='Training')\n",
    "axs[0].plot(epochs, val_acc, '#425066', label='Validation')\n",
    "axs[0].set_title('Training and validation accuracy\\n')\n",
    "axs[0].set_xlabel('Epochs')\n",
    "axs[0].set_ylabel('Accuracy')\n",
    "axs[0].legend()\n",
    "\n",
    "loss = history.history['loss']\n",
    "val_loss = history.history['val_loss']\n",
    "\n",
    "axs[1].plot(epochs, loss, '#12B5CB', label='Training')\n",
    "axs[1].plot(epochs, val_loss, '#425066', label='Validation')\n",
    "axs[1].set_title('Training and validation loss\\n')\n",
    "axs[1].set_xlabel('Epochs')\n",
    "axs[1].set_ylabel('Loss')\n",
    "axs[1].legend()\n",
    "plt.tight_layout()\n",
    "plt.show()\n",
    "\n",
    "best_epoch = val_acc.index(max(val_acc)) + 1\n",
    "print(f'Best epoch: {best_epoch} (accuracy={max(val_acc):.4f})')"
   ]
  },
  {
   "cell_type": "markdown",
   "metadata": {},
   "source": [
    "We can plot the ROC curve and the confusion matrix to further evaluate our trained model."
   ]
  },
  {
   "cell_type": "code",
   "execution_count": 13,
   "metadata": {},
   "outputs": [
    {
     "data": {
      "image/png": "[encoded data removed]",
      "text/plain": [
       "<Figure size 800x400 with 3 Axes>"
      ]
     },
     "metadata": {},
     "output_type": "display_data"
    },
    {
     "name": "stdout",
     "output_type": "stream",
     "text": [
      "Area under curve, AUC = 0.9982669197087304\n",
      "Optimal threshold value = 0.5512554049491882\n",
      "Matthews correlation coefficient = 0.956173924031956\n"
     ]
    }
   ],
   "source": [
    "y_preds = model.predict(x_test, verbose=0).ravel()\n",
    "fpr, tpr, thresholds = roc_curve(y_test, y_preds)\n",
    "\n",
    "fig, axs = plt.subplots(1, 2, figsize=(8, 4))\n",
    "axs[0].plot([0, 1], [0, 1], 'y--')\n",
    "axs[0].plot(fpr, tpr, marker='.')\n",
    "axs[0].set_xlabel('False positive rate')\n",
    "axs[0].set_ylabel('True positive rate')\n",
    "axs[0].set_title('ROC curve\\n')\n",
    "\n",
    "optimal_threshold = thresholds[np.argmax(tpr - fpr)]\n",
    "y_pred2 = (model.predict(x_test, verbose=0) >= optimal_threshold).astype(int)\n",
    "cm = confusion_matrix(y_test, y_pred2)\n",
    "disp = ConfusionMatrixDisplay(confusion_matrix=cm)\n",
    "disp.plot(cmap='Blues', ax=axs[1])\n",
    "axs[1].set_title('Confusion matrix\\n')\n",
    "plt.tight_layout()\n",
    "plt.show()\n",
    "\n",
    "print(f'Area under curve, AUC = {auc(fpr, tpr)}')\n",
    "print(f'Optimal threshold value = {optimal_threshold}')\n",
    "print(f'Matthews correlation coefficient = {matthews_corrcoef(y_test, y_preds>0.5)}')"
   ]
  },
  {
   "cell_type": "markdown",
   "metadata": {},
   "source": [
    "## Save trained model and training settings\n",
    "\n",
    "Finally, we save the trained model to an .h5 file and the training settings to a text file."
   ]
  },
  {
   "cell_type": "code",
   "execution_count": 14,
   "metadata": {},
   "outputs": [
    {
     "name": "stderr",
     "output_type": "stream",
     "text": [
      "/opt/miniconda3/envs/miniml/lib/python3.9/site-packages/keras/src/engine/training.py:3103: UserWarning: You are saving your model as an HDF5 file via `model.save()`. This file format is considered legacy. We recommend using instead the native Keras format, e.g. `model.save('my_model.keras')`.\n",
      "  saving_api.save_model(\n"
     ]
    }
   ],
   "source": [
    "model.save('../results/lstm_full_training.h5')\n",
    "\n",
    "with open('../results/full_training_settings.txt', 'w') as text_file:\n",
    "    text_file.write('\\n'.join(f'{i}: {settings[i]}' for i in settings))"
   ]
  }
 ],
 "metadata": {
  "kernelspec": {
   "display_name": "miniml",
   "language": "python",
   "name": "python3"
  },
  "language_info": {
   "codemirror_mode": {
    "name": "ipython",
    "version": 3
   },
   "file_extension": ".py",
   "mimetype": "text/x-python",
   "name": "python",
   "nbconvert_exporter": "python",
   "pygments_lexer": "ipython3",
   "version": "3.9.19"
  }
 },
 "nbformat": 4,
 "nbformat_minor": 2
}
